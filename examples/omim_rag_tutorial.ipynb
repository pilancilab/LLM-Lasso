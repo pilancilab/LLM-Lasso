{
 "cells": [
  {
   "cell_type": "markdown",
   "metadata": {},
   "source": [
    "## OMIM-RAG Score Collection Tutorial"
   ]
  },
  {
   "cell_type": "markdown",
   "metadata": {},
   "source": [
    "In this tutorial, we demonstrate the pipeline of getting penalty factors for a pre-specified list of genes, with their names supplied as a .pkl or a .txt file. <br> \n",
    "Specifically, the process consists of three steps: <br>\n",
    "(1). Scraping down information from OMIM with OMIM API into JSON files. <br>\n",
    "(2). Preprocessing the scraped OMIM JSON files and Populating a Chroma-based vectorstore using the OMIM knowledge base. <br>\n",
    "(3). Collecting penalty factors with a specified user prompt and an LLM model. <br>"
   ]
  },
  {
   "cell_type": "code",
   "execution_count": 1,
   "metadata": {},
   "outputs": [],
   "source": [
    "import sys\n",
    "sys.path.insert(0, '..')\n",
    "from omim_scrape.parse_omim import *\n",
    "from omim_scrape.process_mim_number import *\n",
    "from src.llm_lasso.task_specific_lasso.llm_lasso import *"
   ]
  },
  {
   "cell_type": "markdown",
   "metadata": {},
   "source": [
    "### (1). Scraping OMIM entries for pre-specified list of gene names. \n"
   ]
  },
  {
   "cell_type": "code",
   "execution_count": 2,
   "metadata": {},
   "outputs": [
    {
     "name": "stdout",
     "output_type": "stream",
     "text": [
      "Success! API is accessible.\n",
      "Response:\n",
      " <?xml version=\"1.0\" encoding=\"UTF-8\"?>\n",
      "<omim versi\n"
     ]
    },
    {
     "data": {
      "text/plain": [
       "True"
      ]
     },
     "execution_count": 2,
     "metadata": {},
     "output_type": "execute_result"
    }
   ],
   "source": [
    "# Update your constants.py file with your OMIM API key.\n",
    "# We first make sure that our OMIM API key is working. \n",
    "test_omim_api_access()"
   ]
  },
  {
   "cell_type": "markdown",
   "metadata": {},
   "source": [
    "### (2). Fetch MIM numbers for a list of genes"
   ]
  },
  {
   "cell_type": "code",
   "execution_count": 3,
   "metadata": {},
   "outputs": [
    {
     "name": "stderr",
     "output_type": "stream",
     "text": [
      "Processing: 100%|██████████| 7/7 [00:02<00:00,  2.38it/s]"
     ]
    },
    {
     "name": "stdout",
     "output_type": "stream",
     "text": [
      "{'AASS': '605113', 'ABCA6': '612504', 'ABCB1': '171050', 'ABHD6': '616966', 'ABHD8': '621036', 'ABTB2': '621014', 'ACP1': '171500'}\n"
     ]
    },
    {
     "name": "stderr",
     "output_type": "stream",
     "text": [
      "\n"
     ]
    }
   ],
   "source": [
    "file_path = 'example_data/example_genenames.txt'\n",
    "mim_dict = get_specified_mim(file_path)\n",
    "print(mim_dict)"
   ]
  },
  {
   "cell_type": "code",
   "execution_count": null,
   "metadata": {},
   "outputs": [],
   "source": [
    "# Optimal integration with the langsmith API to see retrieved documents.\n",
    "# os.environ[\"LANGCHAIN_TRACING_V2\"] = \"true\"\n",
    "# os.environ[\"LANGCHAIN_ENDPOINT\"] = \"https://api.smith.langchain.com\"\n",
    "# os.environ[\"LANGCHAIN_API_KEY\"] = \"\" # YOUR API HERE\n",
    "# os.environ[\"LANGCHAIN_PROJECT\"] = \"FL-hybrid\""
   ]
  }
 ],
 "metadata": {
  "kernelspec": {
   "display_name": "llm-lasso",
   "language": "python",
   "name": "python3"
  },
  "language_info": {
   "codemirror_mode": {
    "name": "ipython",
    "version": 3
   },
   "file_extension": ".py",
   "mimetype": "text/x-python",
   "name": "python",
   "nbconvert_exporter": "python",
   "pygments_lexer": "ipython3",
   "version": "3.9.21"
  }
 },
 "nbformat": 4,
 "nbformat_minor": 2
}
