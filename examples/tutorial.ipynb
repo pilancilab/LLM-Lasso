{
 "cells": [
  {
   "cell_type": "code",
   "execution_count": 7,
   "id": "636dfadf-b881-4cdf-856d-15fb48112c47",
   "metadata": {},
   "outputs": [],
   "source": [
    "from llm_lasso.task_specific_lasso.llm_lasso import run_repeated_llm_lasso_cv\n",
    "from llm_lasso.task_specific_lasso.plotting import plot_heatmap\n",
    "from llm_lasso.data_splits import read_train_test_splits, save_train_test_splits, read_baseline_splits\n",
    "from llm_lasso.baselines.data_driven import run_all_baselines_for_splits\n",
    "import pandas as pd\n",
    "import pickle\n",
    "from llm_lasso.utils.small_scale_data import *\n",
    "import numpy as np\n",
    "import warnings\n",
    "import json\n",
    "warnings.filterwarnings(\"ignore\")  # Suppress warnings"
   ]
  },
  {
   "cell_type": "code",
   "execution_count": 4,
   "id": "4a500bf4-1bbb-4ec9-9e3d-07d14efd3630",
   "metadata": {},
   "outputs": [],
   "source": [
    "%load_ext autoreload\n",
    "%autoreload 2"
   ]
  },
  {
   "cell_type": "markdown",
   "id": "985fe186-d9c6-4330-9d05-2110d2a8b452",
   "metadata": {},
   "source": [
    "## Spotify"
   ]
  },
  {
   "cell_type": "code",
   "execution_count": null,
   "metadata": {},
   "outputs": [],
   "source": [
    "# Save train and text splits\n",
    "X, y = process_spotify_csv()\n",
    "save_train_test_splits(X, y, \"data/train_test_splits/Spotify\", 10, seed=0)"
   ]
  },
  {
   "cell_type": "code",
   "execution_count": 5,
   "id": "45c32edd",
   "metadata": {},
   "outputs": [],
   "source": [
    "# Read the splits back in\n",
    "(x_train, x_test, y_train, y_test) = read_train_test_splits(\"data/train_test_splits/Spotify\", 10)"
   ]
  },
  {
   "cell_type": "code",
   "execution_count": null,
   "id": "520e636a",
   "metadata": {},
   "outputs": [],
   "source": [
    "# Run baselines\n",
    "run_all_baselines_for_splits(\n",
    "    x_train, y_train, \"data/baselines/Spotify\", min=0, max=len(x_train[0].columns) + 1, step=len(x_train[0].columns))"
   ]
  },
  {
   "cell_type": "code",
   "execution_count": 7,
   "id": "b505f1fd",
   "metadata": {},
   "outputs": [],
   "source": [
    "# Make sure you have already gotten LLM-Lasso scores from our/llasso_scores.py\n",
    "# and LLM-Score scores from baselines/llm_select.py"
   ]
  },
  {
   "cell_type": "code",
   "execution_count": null,
   "id": "b39f0ca9",
   "metadata": {},
   "outputs": [],
   "source": [
    "scores_rag = np.array(\n",
    "    np.load(\"data/scores/Diabetes/gene_scores_RAG.pkl\", allow_pickle=True)\n",
    ")\n",
    "scores_plain = np.array(\n",
    "    np.load(\"data/scores/Diabetes/gene_scores_plain.pkl\", allow_pickle=True)\n",
    ")\n",
    "\n",
    "importance_scores_list={\n",
    "    \"rag\": scores_rag,\n",
    "    \"plain\": scores_plain,\n",
    "}\n",
    "model_names = importance_scores_list.keys()\n",
    "methods = [f\"1/imp - {name}\" for name in model_names] + [\"Lasso\"]"
   ]
  },
  {
   "cell_type": "code",
   "execution_count": null,
   "id": "bcb233db-a02b-4aac-8221-ae8eec02dc15",
   "metadata": {},
   "outputs": [],
   "source": [
    "feature_baseline = read_baseline_splits(\"data/baselines/Spotify\", n_splits=10, key=f\"{len(x_train[0].columns)}\")\n",
    "\n",
    "with open(\"data/scores/Diabetes/llmselect_selected_genes.json\", \"r\") as f:\n",
    "    llm_select_genes = json.load(f)[f\"{len(x_train[0].columns)}\"]\n",
    "\n",
    "feature_baseline[\"llm_score\"] = [llm_select_genes] * 10\n",
    "\n",
    "baseline_names = feature_baseline.keys()             "
   ]
  },
  {
   "cell_type": "code",
   "execution_count": null,
   "id": "c85a8ef3",
   "metadata": {},
   "outputs": [],
   "source": [
    "(res, _) = run_repeated_llm_lasso_cv(\n",
    "    x_train_splits=x_train, x_test_splits=x_test,\n",
    "    y_train_splits=y_train, y_test_splits=y_test,\n",
    "    importance_scores_list=importance_scores_list,\n",
    "    feature_baseline=feature_baseline,\n",
    "    baseline_names=baseline_names,\n",
    "    model_names=model_names,\n",
    "    methods=methods,\n",
    "    n_splits=10,\n",
    "    folds_cv=10,\n",
    "    score_type = \"pf\",\n",
    "    lambda_min_ratio=0.001,\n",
    "    n_threads=8,\n",
    "    plot_error_bars=False,\n",
    "    bolded_methods=[\"1/imp - rag\"],\n",
    ")"
   ]
  }
 ],
 "metadata": {
  "kernelspec": {
   "display_name": "llm-lasso-test",
   "language": "python",
   "name": "python3"
  },
  "language_info": {
   "codemirror_mode": {
    "name": "ipython",
    "version": 3
   },
   "file_extension": ".py",
   "mimetype": "text/x-python",
   "name": "python",
   "nbconvert_exporter": "python",
   "pygments_lexer": "ipython3",
   "version": "3.9.21"
  }
 },
 "nbformat": 4,
 "nbformat_minor": 5
}
