{
 "cells": [
  {
   "cell_type": "code",
   "execution_count": 21,
   "metadata": {},
   "outputs": [],
   "source": [
    "from openai import OpenAI\n",
    "from math import exp\n",
    "import numpy as np\n",
    "from IPython.display import display, HTML\n",
    "import os\n",
    "from constants import *\n",
    "import json\n",
    "from src.llm_lasso.baselines.lmpriors import *\n",
    "\n",
    "client = OpenAI(api_key=os.environ.get(\"OPENAI_API_KEY\", OPENAI_API))"
   ]
  },
  {
   "cell_type": "code",
   "execution_count": 22,
   "metadata": {},
   "outputs": [
    {
     "name": "stdout",
     "output_type": "stream",
     "text": [
      "The autoreload extension is already loaded. To reload it, use:\n",
      "  %reload_ext autoreload\n"
     ]
    }
   ],
   "source": [
    "%load_ext autoreload\n",
    "%autoreload 2"
   ]
  },
  {
   "cell_type": "code",
   "execution_count": 23,
   "metadata": {},
   "outputs": [
    {
     "name": "stdout",
     "output_type": "stream",
     "text": [
      "This is a set of variables from a telemarketing campaign conducted by a Portuguese bank. The goal is to build a machine learning model to predict whether a client will subscribe to a term deposit.\n",
      "T means the variable is important for predicting the client’s subscription,\n",
      "F means the variable is not important for predicting the client’s subscription.\n",
      "The goal is to remove nuisance variables.\n",
      "--\n",
      "Variable: default\n",
      "Description: has credit in default?\n",
      "Answer: T\n",
      "Explanation: A client with credit in default may be less likely to commit to a long-term financial product, making this variable relevant for prediction.\n",
      "Variable: contact\n",
      "--\n",
      "Description: contact communication type (categorical: 'cellular','telephone')\n",
      "Answer: F\n",
      "Explanation: The contact method does not meaningfully relate to a client's likelihood of subscribing, and is more operational than behavioral.\n",
      "--\n",
      "Variable: gender\n",
      "Description: creditor's gender\n",
      "Answer:\n",
      "\n",
      "\n"
     ]
    }
   ],
   "source": [
    "filename = \"prompts/lmpriors/bank_prompt.txt\" \n",
    "full_prompt = create_lmpriors_prompt(filename, \"gender\", \"creditor's gender\", \"\", True)"
   ]
  },
  {
   "cell_type": "code",
   "execution_count": 24,
   "metadata": {},
   "outputs": [
    {
     "name": "stdout",
     "output_type": "stream",
     "text": [
      "F\n",
      "\n",
      "Generated token: F\n",
      "Log probability: -0.0011706985533237457\n",
      "\n",
      "Top logprobs:\n"
     ]
    }
   ],
   "source": [
    "messages = [\n",
    "    {\"role\": \"system\", \"content\": \"Complete the user prompt, output only 'T' or 'F'.\"},\n",
    "    {\"role\": \"user\", \"content\": full_prompt}\n",
    "]\n",
    "response = client.chat.completions.create(\n",
    "    model=\"gpt-4o\",\n",
    "    messages=messages,\n",
    "    max_tokens=1,\n",
    "    logprobs=True,\n",
    "    temperature=0\n",
    ")\n",
    "\n",
    "# Print full text response\n",
    "print(response.choices[0].message.content)\n",
    "\n",
    "# Extract token and logprob\n",
    "token_info = response.choices[0].logprobs.content[0]\n",
    "print(f\"\\nGenerated token: {token_info.token}\")\n",
    "print(f\"Log probability: {token_info.logprob}\")\n",
    "\n",
    "# Print top tokens with logprobs\n",
    "print(\"\\nTop logprobs:\")\n",
    "for entry in token_info.top_logprobs:\n",
    "    print(f\"Token: {entry.token}, Logprob: {entry.logprob}\")"
   ]
  },
  {
   "cell_type": "code",
   "execution_count": 29,
   "metadata": {},
   "outputs": [],
   "source": [
    "feature_description_filename = \"prompts/lmpriors/bank_feature_description.json\"\n",
    "save_dir = 'test/'"
   ]
  },
  {
   "cell_type": "code",
   "execution_count": 31,
   "metadata": {},
   "outputs": [
    {
     "name": "stdout",
     "output_type": "stream",
     "text": [
      "🧹 Wiping previous results.\n"
     ]
    },
    {
     "name": "stderr",
     "output_type": "stream",
     "text": [
      "Processing features...: 100%|██████████| 15/15 [00:07<00:00,  1.99it/s]\n"
     ]
    },
    {
     "data": {
      "text/plain": [
       "['balance',\n",
       " 'loan',\n",
       " 'education',\n",
       " 'housing',\n",
       " 'age',\n",
       " 'previous',\n",
       " 'default',\n",
       " 'job',\n",
       " 'pdays',\n",
       " 'campaign',\n",
       " 'marital',\n",
       " 'month']"
      ]
     },
     "execution_count": 31,
     "metadata": {},
     "output_type": "execute_result"
    }
   ],
   "source": [
    "query_lmpriors(filename,feature_description_filename,save_dir, wipe = True)"
   ]
  },
  {
   "cell_type": "code",
   "execution_count": 47,
   "metadata": {},
   "outputs": [
    {
     "name": "stdout",
     "output_type": "stream",
     "text": [
      "['fixed acidity', 'volatile acidity', 'citric acid', 'residual sugar', 'chlorides', 'free sulfur dioxide', 'total sulfur dioxide', 'density', 'pH', 'sulphates', 'alcohol']\n"
     ]
    }
   ],
   "source": [
    "import pickle as pkl\n",
    "\n",
    "pickle_file = \"/Users/helangchun/PycharmProjects/LLM-Lasso/small_scale/data/wine_feature_names.pkl\"\n",
    "\n",
    "with open(pickle_file, 'rb') as file:\n",
    "    loaded_data = pkl.load(file)\n",
    "\n",
    "print(loaded_data)"
   ]
  },
  {
   "cell_type": "code",
   "execution_count": 45,
   "metadata": {},
   "outputs": [],
   "source": [
    "feature_description_files = [\"prompts/lmpriors/bank_feature_description.json\",\n",
    "                             \"prompts/lmpriors/diabetes_feature_description.json\",\n",
    "                             \"prompts/lmpriors/glioma_feature_description.json\",\n",
    "                             \"prompts/lmpriors/spotify_feature_description.json\",\n",
    "                             \"prompts/lmpriors/wine_feature_description.json\",\n",
    "]\n",
    "prompt_files = [\n",
    "    \"prompts/lmpriors/bank_prompt.txt\",\n",
    "    \"prompts/lmpriors/diabetes_prompt.txt\",\n",
    "    \"prompts/lmpriors/glioma_prompt.txt\",\n",
    "    \"prompts/lmpriors/spotify_prompt.txt\",\n",
    "    \"prompts/lmpriors/wine_prompt.txt\"\n",
    "\n",
    "]\n",
    "data_names = [\n",
    "    'bank',\n",
    "    'diabetes',\n",
    "    'glioma',\n",
    "    'spotify',\n",
    "    'wine',\n",
    "]"
   ]
  },
  {
   "cell_type": "code",
   "execution_count": 46,
   "metadata": {},
   "outputs": [
    {
     "name": "stdout",
     "output_type": "stream",
     "text": [
      "🧹 Wiping previous results.\n"
     ]
    },
    {
     "name": "stderr",
     "output_type": "stream",
     "text": [
      "Processing features...: 100%|██████████| 15/15 [00:08<00:00,  1.78it/s]\n"
     ]
    },
    {
     "name": "stdout",
     "output_type": "stream",
     "text": [
      "🧹 Wiping previous results.\n"
     ]
    },
    {
     "name": "stderr",
     "output_type": "stream",
     "text": [
      "Processing features...: 100%|██████████| 9/9 [00:05<00:00,  1.72it/s]\n"
     ]
    },
    {
     "name": "stdout",
     "output_type": "stream",
     "text": [
      "🧹 Wiping previous results.\n"
     ]
    },
    {
     "name": "stderr",
     "output_type": "stream",
     "text": [
      "Processing features...: 100%|██████████| 23/23 [00:12<00:00,  1.89it/s]\n"
     ]
    },
    {
     "name": "stdout",
     "output_type": "stream",
     "text": [
      "🧹 Wiping previous results.\n"
     ]
    },
    {
     "name": "stderr",
     "output_type": "stream",
     "text": [
      "Processing features...: 100%|██████████| 22/22 [00:14<00:00,  1.52it/s]\n"
     ]
    },
    {
     "name": "stdout",
     "output_type": "stream",
     "text": [
      "🧹 Wiping previous results.\n"
     ]
    },
    {
     "name": "stderr",
     "output_type": "stream",
     "text": [
      "Processing features...: 100%|██████████| 11/11 [00:05<00:00,  2.16it/s]\n"
     ]
    }
   ],
   "source": [
    "for feature_file, prompt_file, name in zip(feature_description_files,prompt_files, data_names):\n",
    "    save_dir = \"test/\"\n",
    "    save_dir = os.path.join(save_dir,name)\n",
    "    query_lmpriors(prompt_file,feature_file,save_dir, wipe = True)"
   ]
  }
 ],
 "metadata": {
  "kernelspec": {
   "display_name": "llm-lasso",
   "language": "python",
   "name": "python3"
  },
  "language_info": {
   "codemirror_mode": {
    "name": "ipython",
    "version": 3
   },
   "file_extension": ".py",
   "mimetype": "text/x-python",
   "name": "python",
   "nbconvert_exporter": "python",
   "pygments_lexer": "ipython3",
   "version": "3.9.21"
  }
 },
 "nbformat": 4,
 "nbformat_minor": 2
}
